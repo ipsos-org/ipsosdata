{
 "cells": [
  {
   "cell_type": "code",
   "execution_count": null,
   "metadata": {},
   "outputs": [],
   "source": [
    "import pandas as pd"
   ]
  },
  {
   "cell_type": "code",
   "execution_count": null,
   "metadata": {},
   "outputs": [],
   "source": [
    "urls = {\n",
    "    '2e2mu2011':'http://opendata.cern.ch/record/5200/files/2e2mu_2011.csv',\n",
    "    '2e2mu2012':'http://opendata.cern.ch/record/5200/files/2e2mu_2012.csv',\n",
    "    '4e2011':'http://opendata.cern.ch/record/5200/files/4e_2011.csv',\n",
    "    '4e2012':'http://opendata.cern.ch/record/5200/files/4e_2012.csv',\n",
    "    '4mu2011':'http://opendata.cern.ch/record/5200/files/4mu_2011.csv',\n",
    "    '4mu2012':'http://opendata.cern.ch/record/5200/files/4mu_2012.csv',\n",
    "}\n",
    "\n",
    "frames = [pd.read_csv(urls[url]) for url in urls]\n",
    "\n",
    "fields = [\n",
    "    'Run', 'Event', 'M',\n",
    "    'pt1', 'eta1', 'phi1', 'PID1',\n",
    "    'pt2', 'eta2', 'phi2', 'PID2',\n",
    "    'pt3', 'eta3', 'phi3', 'PID3',\n",
    "    'pt4', 'eta4', 'phi4', 'PID4',\n",
    "]\n",
    "\n",
    "df = pd.concat(frames)[fields]\n",
    "\n",
    "df = df[(df.M > 120) & (df.M < 130)]\n",
    "\n",
    "df.head()"
   ]
  },
  {
   "cell_type": "code",
   "execution_count": null,
   "metadata": {},
   "outputs": [],
   "source": [
    "def row_to_event(i, r):\n",
    "    \n",
    "    event = {}\n",
    "    event['run'] = int(r['Run'])\n",
    "    event['event'] = int(r['Event'])\n",
    "    \n",
    "    event['dataset'] = ''\n",
    "    event['date_time'] = ''\n",
    "    \n",
    "    event['jets'] = []\n",
    "    event['photons'] = []\n",
    "    event['electrons'] = []\n",
    "    event['muons'] = []\n",
    "    event['MET'] = {}\n",
    "\n",
    "    nmu = 0\n",
    "    ne = 0\n",
    "    \n",
    "    for i in [1,2,3,4]:\n",
    "        \n",
    "        lepton = {\n",
    "            'pt': round(r['pt'+str(i)], 3),\n",
    "            'eta': round(r['eta'+str(i)], 3),\n",
    "            'phi': round(r['phi'+str(i)], 3),\n",
    "            'charge': -1 if r['PID'+str(i)] > 0 else 1\n",
    "        }\n",
    "        \n",
    "        if abs(r['PID'+str(i)]) == 13:\n",
    "            event['muons'].append(lepton)\n",
    "            nmu += 1\n",
    "        else:\n",
    "            event['electrons'].append(lepton)\n",
    "            ne += 1\n",
    "            \n",
    "    if nmu == 4:\n",
    "        event['event_type'] = '4mu'\n",
    "    if ne == 4:\n",
    "        event['event_type'] = '4e'\n",
    "    else:\n",
    "        event['event_type'] = '2e2mu'\n",
    "        \n",
    "    assert (nmu+ne) == 4\n",
    "    \n",
    "    return event"
   ]
  },
  {
   "cell_type": "code",
   "execution_count": null,
   "metadata": {},
   "outputs": [],
   "source": [
    "events = [row_to_event(index, row) for index, row in df.iterrows()]\n",
    "\n",
    "print(events)"
   ]
  },
  {
   "cell_type": "code",
   "execution_count": null,
   "metadata": {},
   "outputs": [],
   "source": []
  }
 ],
 "metadata": {
  "kernelspec": {
   "display_name": "Python 3",
   "language": "python",
   "name": "python3"
  },
  "language_info": {
   "codemirror_mode": {
    "name": "ipython",
    "version": 3
   },
   "file_extension": ".py",
   "mimetype": "text/x-python",
   "name": "python",
   "nbconvert_exporter": "python",
   "pygments_lexer": "ipython3",
   "version": "3.7.5"
  }
 },
 "nbformat": 4,
 "nbformat_minor": 2
}
